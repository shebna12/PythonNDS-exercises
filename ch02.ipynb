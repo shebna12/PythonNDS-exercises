{
 "cells": [
  {
   "cell_type": "markdown",
   "metadata": {},
   "source": [
    "# Analysis of Algorithms Programming Exercises"
   ]
  },
  {
   "cell_type": "markdown",
   "metadata": {},
   "source": [
    "### Q1: Devise an experiment to verify that the list index operator is O(1)"
   ]
  },
  {
   "cell_type": "code",
   "execution_count": 28,
   "metadata": {},
   "outputs": [],
   "source": [
    "from timeit import Timer\n",
    "import random\n",
    "import matplotlib.pyplot as plt\n",
    "import numpy as np"
   ]
  },
  {
   "cell_type": "code",
   "execution_count": 19,
   "metadata": {},
   "outputs": [
    {
     "name": "stdout",
     "output_type": "stream",
     "text": [
      "100,     0.002\n",
      "300,     0.001\n",
      "500,     0.001\n",
      "700,     0.001\n",
      "900,     0.001\n",
      "1100,     0.001\n",
      "1300,     0.001\n",
      "1500,     0.001\n",
      "1700,     0.001\n",
      "1900,     0.001\n",
      "2100,     0.001\n",
      "2300,     0.001\n",
      "2500,     0.001\n",
      "2700,     0.001\n",
      "2900,     0.001\n",
      "3100,     0.001\n",
      "3300,     0.001\n",
      "3500,     0.001\n",
      "3700,     0.001\n",
      "3900,     0.001\n",
      "4100,     0.005\n",
      "4300,     0.001\n",
      "4500,     0.001\n",
      "4700,     0.001\n",
      "4900,     0.002\n",
      "5100,     0.001\n",
      "5300,     0.001\n",
      "5500,     0.001\n",
      "5700,     0.001\n",
      "5900,     0.001\n",
      "6100,     0.001\n",
      "6300,     0.001\n",
      "6500,     0.001\n",
      "6700,     0.001\n",
      "6900,     0.001\n",
      "7100,     0.001\n",
      "7300,     0.001\n",
      "7500,     0.001\n",
      "7700,     0.001\n",
      "7900,     0.001\n",
      "8100,     0.001\n",
      "8300,     0.001\n",
      "8500,     0.001\n",
      "8700,     0.001\n",
      "8900,     0.001\n",
      "9100,     0.001\n",
      "9300,     0.001\n",
      "9500,     0.001\n",
      "9700,     0.001\n",
      "9900,     0.001\n"
     ]
    },
    {
     "data": {
      "image/png": "[encoded data removed]",
      "text/plain": [
       "<matplotlib.figure.Figure at 0x3e16a668>"
      ]
     },
     "metadata": {},
     "output_type": "display_data"
    }
   ],
   "source": [
    "for i in range(100,10000,200):\n",
    "    x = list(range(i))\n",
    "    indexing = Timer(\"x[random.randrange(%d)]\"%i,\n",
    "                \"from __main__ import random,x\")\n",
    "    restime = indexing.timeit(number=1000)\n",
    "    \n",
    "    print(\"%d,%10.3f\" % (i, restime))\n",
    "    plt.scatter(i, restime)\n",
    "plt.xlabel(\"List Size\")\n",
    "plt.ylabel(\"Time to Complete Index Operation\")\n",
    "\n",
    "plt.show()\n"
   ]
  },
  {
   "cell_type": "markdown",
   "metadata": {},
   "source": [
    "### Q2: Devise an experiment to verify that get item and set item are O(1) for dictionaries."
   ]
  },
  {
   "cell_type": "code",
   "execution_count": 27,
   "metadata": {},
   "outputs": [],
   "source": [
    "class Currency:\n",
    "#     def __init__(self, name, age):\n",
    "    def __init__(self,name):\n",
    "        self.name = name\n",
    "        \n",
    "    def set_value(self,value):\n",
    "        self.value = value\n",
    "        \n",
    "    def get_value(self):\n",
    "        return self.value\n",
    "    \n",
    "\n",
    "\n"
   ]
  },
  {
   "cell_type": "code",
   "execution_count": 38,
   "metadata": {},
   "outputs": [
    {
     "name": "stdout",
     "output_type": "stream",
     "text": [
      "100,     0.002,     0.000\n",
      "300,     0.001,     0.000\n",
      "500,     0.001,     0.000\n",
      "700,     0.001,     0.000\n",
      "900,     0.001,     0.000\n",
      "1100,     0.003,     0.000\n",
      "1300,     0.001,     0.000\n",
      "1500,     0.001,     0.000\n",
      "1700,     0.001,     0.000\n",
      "1900,     0.002,     0.000\n",
      "2100,     0.001,     0.000\n",
      "2300,     0.001,     0.000\n",
      "2500,     0.003,     0.001\n",
      "2700,     0.001,     0.000\n",
      "2900,     0.001,     0.000\n",
      "3100,     0.001,     0.000\n",
      "3300,     0.001,     0.000\n",
      "3500,     0.001,     0.000\n",
      "3700,     0.003,     0.000\n",
      "3900,     0.002,     0.000\n",
      "4100,     0.001,     0.000\n",
      "4300,     0.001,     0.000\n",
      "4500,     0.001,     0.000\n",
      "4700,     0.003,     0.001\n",
      "4900,     0.001,     0.000\n",
      "5100,     0.002,     0.000\n",
      "5300,     0.001,     0.000\n",
      "5500,     0.001,     0.000\n",
      "5700,     0.001,     0.000\n",
      "5900,     0.001,     0.000\n",
      "6100,     0.001,     0.000\n",
      "6300,     0.001,     0.000\n",
      "6500,     0.003,     0.001\n",
      "6700,     0.001,     0.000\n",
      "6900,     0.001,     0.000\n",
      "7100,     0.001,     0.000\n",
      "7300,     0.001,     0.000\n",
      "7500,     0.001,     0.000\n",
      "7700,     0.001,     0.000\n",
      "7900,     0.001,     0.000\n",
      "8100,     0.001,     0.000\n",
      "8300,     0.002,     0.000\n",
      "8500,     0.001,     0.000\n",
      "8700,     0.001,     0.000\n",
      "8900,     0.001,     0.000\n",
      "9100,     0.001,     0.000\n",
      "9300,     0.001,     0.000\n",
      "9500,     0.001,     0.000\n",
      "9700,     0.001,     0.000\n",
      "9900,     0.001,     0.000\n"
     ]
    },
    {
     "data": {
      "image/png": "[encoded data removed]",
      "text/plain": [
       "<matplotlib.figure.Figure at 0x3e3819e8>"
      ]
     },
     "metadata": {},
     "output_type": "display_data"
    }
   ],
   "source": [
    "a = Currency(\"yen\")\n",
    "for i in range(100,10000,200):\n",
    "    setting = Timer(\"a.set_value(random.randrange(%d))\"%i,\n",
    "                \"from __main__ import random,a\")\n",
    "    set_time = setting.timeit(number=1000)\n",
    "    \n",
    "    getting = Timer(\"a.get_value()\",\n",
    "                \"from __main__ import random,a\")\n",
    "    get_time = getting.timeit(number=1000)\n",
    "    print(\"%d,%10.3f,%10.3f\" % (i, set_time, get_time))\n",
    "    plt.scatter(i, set_time, marker = '*', c ='blue')\n",
    "    plt.scatter(i, get_time, marker = 'x', c='r' )\n",
    "plt.xlabel(\"List Size\")\n",
    "plt.ylabel(\"Time to Complete Get/Set Operation\")\n",
    "\n",
    "plt.show()"
   ]
  },
  {
   "cell_type": "markdown",
   "metadata": {},
   "source": [
    "### Q3:Devise an experiment that compares the performance of the del operator on lists and dictionaries."
   ]
  },
  {
   "cell_type": "code",
   "execution_count": 55,
   "metadata": {},
   "outputs": [
    {
     "ename": "KeyError",
     "evalue": "0",
     "output_type": "error",
     "traceback": [
      "\u001b[1;31m---------------------------------------------------------------------------\u001b[0m",
      "\u001b[1;31mKeyError\u001b[0m                                  Traceback (most recent call last)",
      "\u001b[1;32m<ipython-input-55-ec8c2f16c780>\u001b[0m in \u001b[0;36m<module>\u001b[1;34m()\u001b[0m\n\u001b[0;32m      9\u001b[0m     \u001b[0mlst_time\u001b[0m \u001b[1;33m=\u001b[0m \u001b[0mt\u001b[0m\u001b[1;33m.\u001b[0m\u001b[0mtimeit\u001b[0m\u001b[1;33m(\u001b[0m\u001b[0mnumber\u001b[0m\u001b[1;33m=\u001b[0m\u001b[1;36m1000\u001b[0m\u001b[1;33m)\u001b[0m\u001b[1;33m\u001b[0m\u001b[0m\n\u001b[0;32m     10\u001b[0m     \u001b[0mx\u001b[0m \u001b[1;33m=\u001b[0m \u001b[1;33m{\u001b[0m\u001b[0mj\u001b[0m\u001b[1;33m:\u001b[0m\u001b[0mNone\u001b[0m \u001b[1;32mfor\u001b[0m \u001b[0mj\u001b[0m \u001b[1;32min\u001b[0m \u001b[0mrange\u001b[0m\u001b[1;33m(\u001b[0m\u001b[0mi\u001b[0m\u001b[1;33m)\u001b[0m\u001b[1;33m}\u001b[0m\u001b[1;33m\u001b[0m\u001b[0m\n\u001b[1;32m---> 11\u001b[1;33m     \u001b[0md_time\u001b[0m \u001b[1;33m=\u001b[0m \u001b[0mt\u001b[0m\u001b[1;33m.\u001b[0m\u001b[0mtimeit\u001b[0m\u001b[1;33m(\u001b[0m\u001b[0mnumber\u001b[0m\u001b[1;33m=\u001b[0m\u001b[1;36m1000\u001b[0m\u001b[1;33m)\u001b[0m\u001b[1;33m\u001b[0m\u001b[0m\n\u001b[0m\u001b[0;32m     12\u001b[0m     \u001b[1;32mprint\u001b[0m\u001b[1;33m(\u001b[0m\u001b[1;34m\"%d,%10.3f,%10.3f\"\u001b[0m \u001b[1;33m%\u001b[0m \u001b[1;33m(\u001b[0m\u001b[0mi\u001b[0m\u001b[1;33m,\u001b[0m \u001b[0mlst_time\u001b[0m\u001b[1;33m,\u001b[0m \u001b[0md_time\u001b[0m\u001b[1;33m)\u001b[0m\u001b[1;33m)\u001b[0m\u001b[1;33m\u001b[0m\u001b[0m\n",
      "\u001b[1;32mC:\\Users\\User\\Anaconda2\\lib\\timeit.pyc\u001b[0m in \u001b[0;36mtimeit\u001b[1;34m(self, number)\u001b[0m\n\u001b[0;32m    200\u001b[0m         \u001b[0mgc\u001b[0m\u001b[1;33m.\u001b[0m\u001b[0mdisable\u001b[0m\u001b[1;33m(\u001b[0m\u001b[1;33m)\u001b[0m\u001b[1;33m\u001b[0m\u001b[0m\n\u001b[0;32m    201\u001b[0m         \u001b[1;32mtry\u001b[0m\u001b[1;33m:\u001b[0m\u001b[1;33m\u001b[0m\u001b[0m\n\u001b[1;32m--> 202\u001b[1;33m             \u001b[0mtiming\u001b[0m \u001b[1;33m=\u001b[0m \u001b[0mself\u001b[0m\u001b[1;33m.\u001b[0m\u001b[0minner\u001b[0m\u001b[1;33m(\u001b[0m\u001b[0mit\u001b[0m\u001b[1;33m,\u001b[0m \u001b[0mself\u001b[0m\u001b[1;33m.\u001b[0m\u001b[0mtimer\u001b[0m\u001b[1;33m)\u001b[0m\u001b[1;33m\u001b[0m\u001b[0m\n\u001b[0m\u001b[0;32m    203\u001b[0m         \u001b[1;32mfinally\u001b[0m\u001b[1;33m:\u001b[0m\u001b[1;33m\u001b[0m\u001b[0m\n\u001b[0;32m    204\u001b[0m             \u001b[1;32mif\u001b[0m \u001b[0mgcold\u001b[0m\u001b[1;33m:\u001b[0m\u001b[1;33m\u001b[0m\u001b[0m\n",
      "\u001b[1;32mC:\\Users\\User\\Anaconda2\\lib\\timeit.pyc\u001b[0m in \u001b[0;36minner\u001b[1;34m(_it, _timer)\u001b[0m\n",
      "\u001b[1;31mKeyError\u001b[0m: 0"
     ]
    }
   ],
   "source": [
    "import timeit\n",
    "import random\n",
    "\n",
    "for i in range(10000,1000001,20000):\n",
    "    x = list(range(i))\n",
    "    t = timeit.Timer(\"del x[random.randrange(%d)]\"%i,\n",
    "                     \"from __main__ import random,x\")\n",
    "    lst_time = t.timeit(number=1000)\n",
    "    x = {j:None for j in range(i)}\n",
    "    d_time = t.timeit(number=1000)\n",
    "    print(\"%d,%10.3f,%10.3f\" % (i, lst_time, d_time))\n"
   ]
  },
  {
   "cell_type": "markdown",
   "metadata": {},
   "source": [
    "### Q4: Given a list of numbers in random order, write an algorithm that works in O(nlog(n)) to find the kth smallest number in the list."
   ]
  },
  {
   "cell_type": "code",
   "execution_count": 59,
   "metadata": {},
   "outputs": [],
   "source": [
    "import random\n",
    "lst = random.sample(range(1, 1000000), 1000)\n"
   ]
  },
  {
   "cell_type": "code",
   "execution_count": 58,
   "metadata": {},
   "outputs": [
    {
     "name": "stdout",
     "output_type": "stream",
     "text": [
      "[929, 982, 2177, 5600, 6121, 6371, 7453, 8098, 11654, 12625, 12752, 13020, 14796, 15984, 16132, 17717, 18117, 18157, 19597, 20464, 20850, 22979, 23003, 23361, 23652, 27457, 27721, 29826, 30984, 31023, 31691, 33029, 33408, 33682, 34793, 34929, 35494, 36219, 36485, 37260, 39518, 41645, 42269, 43181, 43901, 45300, 46524, 46976, 47138, 47855, 48467, 52745, 53274, 53409, 55175, 55707, 57227, 58998, 59891, 61813, 61854, 62068, 67061, 67261, 69193, 71482, 73986, 74037, 74586, 76045, 76691, 78636, 81976, 82721, 83294, 83387, 83430, 85044, 87144, 87689, 89374, 89583, 90095, 91770, 91861, 91969, 94654, 94656, 95342, 95428, 96698, 96799, 98150, 98218, 106319, 106449, 106503, 106994, 107510, 108007, 109421, 110208, 112981, 113809, 114535, 114647, 115606, 116079, 116334, 117189, 119203, 120958, 121119, 121333, 121620, 123593, 125511, 127974, 128797, 130658, 131994, 132274, 135155, 137249, 138979, 141799, 142068, 144226, 145292, 145661, 146087, 146413, 146641, 147548, 147757, 147916, 148404, 148715, 149271, 150803, 151004, 151085, 152577, 153255, 153399, 154603, 156600, 158438, 158983, 159316, 160496, 160543, 162531, 163020, 166840, 167874, 168662, 171725, 172740, 173942, 175573, 176176, 176519, 177569, 179837, 180104, 180410, 181668, 181749, 181861, 182063, 182666, 184583, 186041, 186140, 186992, 189219, 189661, 191751, 191889, 192207, 192590, 193926, 194160, 194861, 196443, 197998, 199893, 200743, 201107, 201311, 201312, 201879, 203464, 204682, 205293, 205436, 205988, 206870, 207248, 209012, 209084, 210172, 210640, 210885, 211139, 211648, 212225, 212490, 214243, 214706, 215629, 216363, 216991, 217187, 217506, 218156, 218506, 218777, 219839, 221628, 223149, 223231, 224564, 225788, 226105, 228953, 229406, 231209, 231750, 233529, 234209, 234752, 235860, 236646, 238078, 238343, 242511, 243338, 245307, 245692, 246790, 248157, 248574, 249777, 250272, 250558, 253719, 254902, 256259, 257146, 258740, 259183, 259436, 259471, 259576, 260277, 261759, 263066, 263300, 263345, 264194, 264711, 264866, 265616, 266331, 267158, 267211, 268271, 268351, 269078, 271148, 271941, 272514, 273782, 274346, 277207, 277683, 277699, 279463, 281043, 281680, 282757, 283538, 283930, 284348, 285101, 286708, 287610, 294935, 295048, 296218, 296925, 297511, 297560, 298033, 298268, 298388, 299189, 300256, 300593, 301110, 301185, 302037, 302966, 304236, 304572, 305230, 306213, 308024, 308129, 309253, 310334, 311217, 311723, 313164, 314678, 315085, 316959, 321134, 321926, 323340, 323652, 324463, 326986, 328965, 330564, 331270, 331812, 332052, 332812, 333519, 334053, 337751, 338692, 342673, 342916, 343205, 343684, 343775, 347697, 348343, 349684, 350297, 350993, 351427, 352136, 356394, 357163, 357742, 358481, 359735, 362414, 362719, 362752, 362790, 363611, 366116, 366204, 366259, 366651, 368478, 371040, 371283, 371816, 374522, 381781, 382656, 383092, 383186, 383283, 384556, 384985, 385589, 386429, 386507, 387058, 388426, 389094, 390792, 392434, 393589, 393986, 396601, 397342, 398809, 399633, 400908, 401176, 402163, 402858, 402959, 403053, 403348, 404309, 404610, 404731, 405020, 406438, 410437, 410458, 410504, 410549, 412101, 414591, 414697, 417028, 418946, 419365, 420498, 422252, 423146, 423745, 425215, 425408, 426133, 427529, 429401, 430057, 430064, 430628, 430727, 431050, 432134, 433433, 433971, 434658, 436284, 436624, 437035, 438211, 438644, 438792, 438923, 439470, 440976, 442035, 443188, 443564, 444737, 444932, 445096, 445692, 446475, 446628, 447370, 447750, 448718, 449112, 451145, 451354, 452284, 452416, 454024, 454135, 454547, 454645, 455126, 455346, 455846, 456790, 458425, 459581, 459763, 460312, 461525, 462797, 465413, 467790, 468687, 468893, 469046, 470271, 470480, 470917, 471244, 471859, 473983, 474463, 475878, 477180, 477935, 479679, 480861, 480907, 481250, 483734, 483980, 484220, 484989, 485971, 487190, 488080, 488082, 489260, 493398, 493692, 494215, 494790, 496283, 498280, 500015, 500841, 502060, 503544, 503627, 505820, 508922, 511435, 512597, 513685, 515026, 516500, 517993, 519329, 519822, 520455, 521563, 523192, 523841, 525418, 525722, 526102, 527350, 527400, 527890, 529941, 531274, 531330, 531811, 532184, 532422, 532706, 532968, 534088, 535591, 535764, 536363, 540740, 542685, 543917, 544588, 545862, 546637, 547015, 547072, 550089, 550805, 551042, 552793, 554601, 555940, 556249, 556459, 556834, 563563, 565161, 566207, 566449, 567289, 567431, 568020, 568844, 569183, 572081, 573665, 575316, 577961, 577997, 579017, 582685, 584555, 584832, 587346, 589570, 590410, 592036, 592705, 593437, 595013, 595783, 595833, 596070, 596085, 597056, 599135, 599484, 600652, 601349, 601896, 601947, 603772, 604520, 605304, 606291, 607288, 611666, 612579, 613824, 615300, 615457, 615491, 615772, 615858, 616111, 616529, 617076, 618887, 619017, 620202, 621011, 621295, 621550, 623237, 623278, 624405, 625333, 626255, 626934, 627580, 630075, 631884, 631925, 633771, 634704, 635007, 635725, 636078, 636617, 636887, 637690, 640014, 640424, 643145, 644756, 644805, 645576, 646675, 649831, 651030, 656019, 657207, 657278, 657731, 657767, 658774, 659842, 660015, 660100, 660497, 662081, 662129, 663527, 663650, 664121, 664841, 667572, 671798, 672967, 673503, 679607, 680734, 681639, 682805, 684126, 685132, 689534, 690092, 692138, 694261, 694508, 695379, 695472, 695885, 696405, 698489, 699421, 700149, 701059, 702000, 702103, 705403, 706464, 707017, 711050, 711444, 712194, 713211, 714060, 714599, 716099, 720905, 721148, 723114, 724467, 725523, 726240, 726591, 726963, 728860, 729881, 730439, 730768, 730895, 734037, 734986, 737079, 737907, 738028, 738778, 739035, 739103, 740222, 741120, 741469, 743319, 744117, 744797, 746009, 747334, 747880, 748654, 748846, 750446, 752055, 753692, 753726, 755775, 756455, 756747, 756982, 760437, 760707, 760839, 761106, 763937, 764023, 765563, 768850, 769209, 769427, 770552, 774601, 776555, 776838, 778091, 779980, 781407, 782133, 782662, 784111, 784123, 784170, 784964, 786636, 787570, 787609, 788146, 789159, 790481, 791168, 794038, 795485, 796108, 796734, 797295, 798777, 799042, 799850, 800078, 801614, 802910, 803420, 805093, 805671, 807686, 808603, 809349, 810726, 811245, 812936, 812990, 813959, 814199, 814693, 815138, 815567, 816944, 817671, 818619, 818858, 822189, 822820, 822828, 823556, 824183, 825835, 826975, 828319, 828475, 829010, 829220, 830975, 831675, 833039, 833184, 833549, 834256, 836893, 838602, 839057, 839928, 841108, 841199, 841875, 844069, 844904, 845622, 845804, 847030, 848118, 848382, 848687, 850257, 850337, 850883, 852793, 852922, 853737, 855300, 855387, 855785, 856743, 857533, 858627, 859694, 860354, 861392, 861670, 862527, 862553, 863122, 863238, 864282, 864527, 864971, 868319, 868642, 869089, 875477, 876449, 876800, 877036, 877239, 877384, 879788, 880538, 880921, 880992, 881776, 881778, 882613, 882793, 882906, 883282, 883571, 883665, 885355, 885623, 885740, 886267, 888096, 888672, 889590, 890161, 891211, 894241, 894561, 894939, 896484, 896843, 897072, 899008, 899819, 900157, 901137, 901353, 901393, 902058, 902799, 903092, 903851, 904253, 905770, 906680, 906740, 907516, 908009, 909205, 909368, 909707, 910124, 910299, 911904, 914403, 914689, 915224, 915254, 917312, 921280, 921369, 921438, 923756, 924443, 924615, 925628, 926327, 927911, 930680, 930720, 930752, 934956, 936123, 936268, 936441, 936828, 936932, 937477, 937926, 938495, 938754, 939206, 940733, 941348, 941967, 944155, 944798, 946051, 946136, 946991, 950805, 950948, 951395, 951596, 951761, 953674, 954651, 954936, 955139, 957106, 957789, 958103, 958570, 960988, 961604, 962975, 963167, 964373, 964937, 965010, 965186, 965408, 966166, 966692, 967767, 968866, 969698, 969723, 970182, 971453, 971577, 972515, 972557, 973428, 974171, 974653, 974674, 975326, 976902, 977030, 978229, 979239, 981741, 981791, 985357, 986619, 988647, 988668, 989559, 989771, 992223, 992806, 993448, 994278, 996014, 996991, 997485, 998000, 999196, 999201]\n",
      "2177\n"
     ]
    }
   ],
   "source": [
    "lst.sort()\n",
    "print(lst)\n",
    "k = 3\n",
    "print(lst[k-1])"
   ]
  },
  {
   "cell_type": "markdown",
   "metadata": {},
   "source": [
    "### Q5:Can you improve the algorithm from the previous problem to be linear? Explain."
   ]
  },
  {
   "cell_type": "markdown",
   "metadata": {},
   "source": [
    "#### No. The algorithm used to sort the list in the previous problem uses the best available method for sorting. The Timsort is the algorithm used and it uses the merge sort as a foundation.  There will be better performing algorithms but with assumptions of the list's ordering."
   ]
  },
  {
   "cell_type": "code",
   "execution_count": null,
   "metadata": {
    "collapsed": true
   },
   "outputs": [],
   "source": []
  }
 ],
 "metadata": {
  "kernelspec": {
   "display_name": "Python 2",
   "language": "python",
   "name": "python2"
  },
  "language_info": {
   "codemirror_mode": {
    "name": "ipython",
    "version": 2
   },
   "file_extension": ".py",
   "mimetype": "text/x-python",
   "name": "python",
   "nbconvert_exporter": "python",
   "pygments_lexer": "ipython2",
   "version": "2.7.13"
  }
 },
 "nbformat": 4,
 "nbformat_minor": 2
}
